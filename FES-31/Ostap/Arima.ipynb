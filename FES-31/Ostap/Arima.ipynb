{
 "cells": [
  {
   "cell_type": "code",
   "execution_count": 1,
   "metadata": {},
   "outputs": [],
   "source": [
    "import math \n",
    "import matplotlib.pyplot as plt\n",
    "from sympy import symbols, diff\n",
    "import re\n",
    "import numpy as np"
   ]
  },
  {
   "cell_type": "code",
   "execution_count": 2,
   "metadata": {},
   "outputs": [],
   "source": [
    "# Data : \n",
    "# Продаж солодкої води :\n",
    "\n",
    "x = [i for i in range(1,37)]\n",
    "\n",
    "y = [9,10,10,11,12,18,26,40,39,28,20,13,\n",
    "     8,9,11,9,13,15,33,45,45,25,18,10,\n",
    "     7,9,10,11,13,15,31,40,35,26,19,13]"
   ]
  },
  {
   "cell_type": "code",
   "execution_count": 3,
   "metadata": {},
   "outputs": [
    {
     "data": {
      "image/png": "[encoded data removed]",
      "text/plain": [
       "<Figure size 432x288 with 1 Axes>"
      ]
     },
     "metadata": {
      "needs_background": "light"
     },
     "output_type": "display_data"
    }
   ],
   "source": [
    "plt.plot(x, y)\n",
    "plt.axis([0, 50, 0, 50])\n",
    "plt.show()"
   ]
  },
  {
   "cell_type": "code",
   "execution_count": 4,
   "metadata": {},
   "outputs": [],
   "source": [
    "## Stage find regressions : \n",
    "\n",
    "def Cov(a,b):\n",
    "    a = list(a)\n",
    "    b = list(b)\n",
    "    \n",
    "    avr_a = 0\n",
    "    for i in range(len(a)):\n",
    "        avr_a +=a[i]\n",
    "    avr_a /=len(a)\n",
    "    \n",
    "    avr_b = 0\n",
    "    for i in range(len(b)):\n",
    "        avr_b += b[i]\n",
    "    avr_b /= len(b)\n",
    "    \n",
    "    znamenik = 0\n",
    "    for i in range(len(a)):\n",
    "        znamenik += (a[i] - avr_a) * (b[i] - avr_b)\n",
    "    \n",
    "    chiselnik = len(a) - 1\n",
    "    \n",
    "    cov = 0 \n",
    "    \n",
    "    cov = znamenik / chiselnik\n",
    "    \n",
    "    return cov\n"
   ]
  },
  {
   "cell_type": "code",
   "execution_count": 5,
   "metadata": {},
   "outputs": [
    {
     "name": "stdout",
     "output_type": "stream",
     "text": [
      "кореляція =  18.62857142857143\n"
     ]
    }
   ],
   "source": [
    "print('кореляція = ', Cov(x,y))"
   ]
  },
  {
   "cell_type": "code",
   "execution_count": 6,
   "metadata": {},
   "outputs": [
    {
     "name": "stdout",
     "output_type": "stream",
     "text": [
      "Кофіцієнт кореляції : 0.00429572464444998\n"
     ]
    }
   ],
   "source": [
    "def standart_error(a,b):\n",
    "    # Дисперсії :\n",
    "    avr_a = 0\n",
    "    for i in range(len(a)):\n",
    "        avr_a += a[i]\n",
    "    avr_a /=len(a)\n",
    "    \n",
    "    avr_b = 0\n",
    "    for i in range(len(b)):\n",
    "        avr_b += b[i]  \n",
    "    avr_b /= len(b)\n",
    "    \n",
    "    d_a = 0 # dispersia\n",
    "    for i in range(len(a)):\n",
    "        d_a += math.pow((a[i] - avr_a),2)\n",
    "        \n",
    "    d_b = 0 # dispersia\n",
    "    for i in range(len(b)):\n",
    "        d_b += math.pow((b[i] - avr_b),2)\n",
    "        \n",
    "    # Стандартне відхилення :\n",
    "    std_a = 0\n",
    "    std_b = 0\n",
    "    \n",
    "    std_a = math.pow(d_a,(0.5))\n",
    "    std_b = math.pow(d_b ,(0.5))\n",
    "    \n",
    "    return std_a,std_b \n",
    "\n",
    "def rxy(a,b):\n",
    "    std_a,std_b = standart_error(a,b)\n",
    "    # cof_korell :\n",
    "    cov = Cov(a,b)\n",
    "    cof_korell = cov / (std_a * std_b)\n",
    "    \n",
    "    return cof_korell\n",
    "print('Кофіцієнт кореляції :',rxy(x,y))"
   ]
  },
  {
   "cell_type": "code",
   "execution_count": 7,
   "metadata": {},
   "outputs": [
    {
     "name": "stdout",
     "output_type": "stream",
     "text": [
      "Кофіцієнт детермінації :  0.06554177785542577\n"
     ]
    }
   ],
   "source": [
    "print('Кофіцієнт детермінації : ',math.pow(rxy(x,y),(0.5)))"
   ]
  },
  {
   "cell_type": "code",
   "execution_count": 8,
   "metadata": {},
   "outputs": [
    {
     "data": {
      "text/plain": [
       "16.688890243688178"
      ]
     },
     "execution_count": 8,
     "metadata": {},
     "output_type": "execute_result"
    }
   ],
   "source": [
    "def firstRegressor(a,b):\n",
    "    std_a,std_b = standart_error(a,b)\n",
    "    cov = Cov(a,b)\n",
    "    \n",
    "    # Регресор :\n",
    "    first = (std_a / std_b) * cov\n",
    "    return first \n",
    "firstRegressor(x,y)"
   ]
  },
  {
   "cell_type": "code",
   "execution_count": 9,
   "metadata": {},
   "outputs": [
    {
     "data": {
      "text/plain": [
       "-289.1333583971202"
      ]
     },
     "execution_count": 9,
     "metadata": {},
     "output_type": "execute_result"
    }
   ],
   "source": [
    "def secondRegressor(a,b):\n",
    "    avr_a = 0\n",
    "    for i in range(len(a)):\n",
    "        avr_a += a[i]\n",
    "    avr_a /= len(a)\n",
    "    \n",
    "    avr_b = 0\n",
    "    for i in range(len(b)):\n",
    "        avr_b += b[i]\n",
    "    avr_b /= len(b)\n",
    "    first = firstRegressor(a,b)\n",
    "    \n",
    "    second = avr_b - (first * avr_a)\n",
    "    return second\n",
    "secondRegressor(x,y)"
   ]
  },
  {
   "cell_type": "code",
   "execution_count": null,
   "metadata": {},
   "outputs": [],
   "source": []
  },
  {
   "cell_type": "code",
   "execution_count": null,
   "metadata": {},
   "outputs": [],
   "source": []
  },
  {
   "cell_type": "code",
   "execution_count": 10,
   "metadata": {},
   "outputs": [
    {
     "data": {
      "text/plain": [
       "(16.506349206349206, 0.16782496782496775)"
      ]
     },
     "execution_count": 10,
     "metadata": {},
     "output_type": "execute_result"
    }
   ],
   "source": [
    "def minMNK(a,b):\n",
    "    function = 0\n",
    "    w0, w1 = symbols('x y', real=True)\n",
    "    \n",
    "    for i in range(len(a)):\n",
    "        function +=(w1*a[i] + w0 - b[i]) ** 2\n",
    "        \n",
    "    #print(function)\n",
    "    \n",
    "    function1W0 = diff(function,w0)\n",
    "    function2W1 = diff(function,w1)\n",
    "        \n",
    "    #print(function1W0)\n",
    "   # print(function2W1)\n",
    "    \n",
    "    function1W0 = str(function1W0)\n",
    "    function2W1 = str(function2W1)\n",
    "    \n",
    "\n",
    "    result1 = re.findall(r'\\d+',function1W0)\n",
    "    result2 = re.findall(r'\\d+',function2W1)\n",
    "    \n",
    "    for i in range(len(result1)):\n",
    "        result1[i] = int(result1[i])\n",
    "        \n",
    "    for i in range(len(result2)):\n",
    "        result2[i] = int(result2[i])\n",
    "    \n",
    "    \n",
    "    matrix = [result1[0:2],result2[0:2]]\n",
    "    matrix_result = [result1[2],result2[2]]\n",
    "    \n",
    "    #print('\\n')\n",
    "    \n",
    "    #for i in range(2):\n",
    "       # print(matrix[i],'  \\t=   ',matrix_result[i])\n",
    "    \n",
    "    #print(matrix)\n",
    "    #print(matrix_result)\n",
    "    resultAll = np.linalg.solve(matrix,matrix_result)\n",
    "    \n",
    "    new_w0, new_w1 = resultAll\n",
    "    \n",
    "    return new_w0, new_w1\n",
    "minMNK(x,y)  "
   ]
  },
  {
   "cell_type": "code",
   "execution_count": 11,
   "metadata": {},
   "outputs": [],
   "source": [
    "def linerRegression(a,b,x):\n",
    "    w0,w1 = minMNK(a,b)\n",
    "    y = w0 + (w1*x)\n",
    "    return y "
   ]
  },
  {
   "cell_type": "code",
   "execution_count": 12,
   "metadata": {},
   "outputs": [
    {
     "name": "stdout",
     "output_type": "stream",
     "text": [
      "Результат лінійної регресі на 37 місяць :  22.715873015873015\n"
     ]
    }
   ],
   "source": [
    "print('Результат лінійної регресі на 37 місяць : ', linerRegression(x,y,37))"
   ]
  },
  {
   "cell_type": "code",
   "execution_count": 13,
   "metadata": {},
   "outputs": [],
   "source": [
    "import pandas as pd\n",
    "import math \n",
    "import matplotlib.pyplot as plt\n",
    "from statsmodels.tsa.arima_model import ARIMA\n",
    "import statsmodels.api as sm"
   ]
  },
  {
   "cell_type": "code",
   "execution_count": 14,
   "metadata": {},
   "outputs": [],
   "source": [
    "data = pd.read_csv('full_external_temperatures.csv',header=0, parse_dates=[0], index_col=0, squeeze=True)"
   ]
  },
  {
   "cell_type": "code",
   "execution_count": 15,
   "metadata": {},
   "outputs": [],
   "source": [
    "x = []\n",
    "temp_x = []\n",
    "temp_x.extend(data['dateTime'])\n",
    "for i in range(2000):\n",
    "    x.append(temp_x[i])\n",
    "    \n",
    "x_data = []\n",
    "for i in range(200):\n",
    "    x_data.append(i)"
   ]
  },
  {
   "cell_type": "code",
   "execution_count": 16,
   "metadata": {},
   "outputs": [],
   "source": [
    "y = []\n",
    "temp_y = []\n",
    "temp_y.extend(data['data'])\n",
    "for i in range(200):\n",
    "    y.append(temp_y[i])"
   ]
  },
  {
   "cell_type": "code",
   "execution_count": 17,
   "metadata": {},
   "outputs": [],
   "source": [
    "test_y = []\n",
    "temp_y = []\n",
    "temp_y.extend(data['data'])\n",
    "for i in range(2003):\n",
    "    test_y.append(temp_y[i])"
   ]
  },
  {
   "cell_type": "code",
   "execution_count": 18,
   "metadata": {},
   "outputs": [
    {
     "data": {
      "text/plain": [
       "[8.685538329367326,\n",
       " 8.753450289568269,\n",
       " 8.81563303068502,\n",
       " 8.874470829217163,\n",
       " 8.931993883482486]"
      ]
     },
     "execution_count": 18,
     "metadata": {},
     "output_type": "execute_result"
    }
   ],
   "source": [
    "# Автокорегресія :\n",
    "def auto_reg(a,b,my_x,p=1):\n",
    "    w0,w1 = minMNK(a,b)\n",
    "    function = w0\n",
    "    #print(w0)\n",
    "    result_array = []\n",
    "    for i in range(p):\n",
    "        len_arr = len(a) - i -1\n",
    "        \n",
    "        w0,w1 = minMNK(a[0:len_arr],b[0:len_arr])\n",
    "        #print('liner - ',res_liner_regr, 'b - ',b[len_arr])\n",
    "        function += b[len_arr] * w1\n",
    "        \n",
    "        result_array.append(function)\n",
    "    return result_array\n",
    "auto_reg(x_data,y,p=5,my_x=201)"
   ]
  },
  {
   "cell_type": "code",
   "execution_count": 19,
   "metadata": {},
   "outputs": [
    {
     "data": {
      "text/plain": [
       "8.254999999999999"
      ]
     },
     "execution_count": 19,
     "metadata": {},
     "output_type": "execute_result"
    }
   ],
   "source": [
    "# Скільзьке середнє :\n",
    "def SMA(b,p=3):\n",
    "    SMA_res = []\n",
    "    sum_b = 0\n",
    "    num = 0\n",
    "    for i in range(len(b) - p):\n",
    "        for j in range(p):\n",
    "            sum_b += b[i+j]\n",
    "        SMA_res.append(sum_b / p)\n",
    "        sum_b = 0\n",
    "    return SMA_res\n",
    "def MA_foresee(b,p):\n",
    "    SMA_res = 0\n",
    "\n",
    "    for i in range(p):\n",
    "        sum_b = len(b) - i -1\n",
    "        SMA_res += b[sum_b]\n",
    "        SMA_res /= p\n",
    "    return SMA_res\n",
    "\n",
    "MA_foresee(y,2)"
   ]
  },
  {
   "cell_type": "code",
   "execution_count": 20,
   "metadata": {},
   "outputs": [],
   "source": [
    "MA_arr = [0,0,0]\n",
    "temp_arr = SMA(y)\n",
    "for i in range(len(temp_arr)):\n",
    "    MA_arr.append(temp_arr[i])"
   ]
  },
  {
   "cell_type": "code",
   "execution_count": null,
   "metadata": {},
   "outputs": [],
   "source": []
  },
  {
   "cell_type": "code",
   "execution_count": null,
   "metadata": {},
   "outputs": [
    {
     "ename": "ValueError",
     "evalue": "x and y must have same first dimension, but have shapes (2000,) and (200,)",
     "output_type": "error",
     "traceback": [
      "\u001b[0;31m---------------------------------------------------------------------------\u001b[0m",
      "\u001b[0;31mValueError\u001b[0m                                Traceback (most recent call last)",
      "\u001b[0;32m<ipython-input-21-f4672682792d>\u001b[0m in \u001b[0;36m<module>\u001b[0;34m\u001b[0m\n\u001b[1;32m      1\u001b[0m \u001b[0mplt\u001b[0m\u001b[0;34m.\u001b[0m\u001b[0mplot\u001b[0m\u001b[0;34m(\u001b[0m\u001b[0mx_data\u001b[0m\u001b[0;34m,\u001b[0m\u001b[0mMA_arr\u001b[0m\u001b[0;34m,\u001b[0m\u001b[0;34m'r'\u001b[0m\u001b[0;34m)\u001b[0m\u001b[0;34m\u001b[0m\u001b[0;34m\u001b[0m\u001b[0m\n\u001b[0;32m----> 2\u001b[0;31m \u001b[0mplt\u001b[0m\u001b[0;34m.\u001b[0m\u001b[0mplot\u001b[0m\u001b[0;34m(\u001b[0m\u001b[0mx\u001b[0m\u001b[0;34m,\u001b[0m \u001b[0my\u001b[0m\u001b[0;34m,\u001b[0m\u001b[0;34m'g'\u001b[0m\u001b[0;34m)\u001b[0m\u001b[0;34m\u001b[0m\u001b[0;34m\u001b[0m\u001b[0m\n\u001b[0m\u001b[1;32m      3\u001b[0m \u001b[0mplt\u001b[0m\u001b[0;34m.\u001b[0m\u001b[0maxis\u001b[0m\u001b[0;34m(\u001b[0m\u001b[0;34m[\u001b[0m\u001b[0;36m0\u001b[0m\u001b[0;34m,\u001b[0m \u001b[0;36m50\u001b[0m\u001b[0;34m,\u001b[0m \u001b[0;36m0\u001b[0m\u001b[0;34m,\u001b[0m \u001b[0;36m50\u001b[0m\u001b[0;34m]\u001b[0m\u001b[0;34m)\u001b[0m\u001b[0;34m\u001b[0m\u001b[0;34m\u001b[0m\u001b[0m\n\u001b[1;32m      4\u001b[0m \u001b[0mplt\u001b[0m\u001b[0;34m.\u001b[0m\u001b[0mshow\u001b[0m\u001b[0;34m(\u001b[0m\u001b[0;34m)\u001b[0m\u001b[0;34m\u001b[0m\u001b[0;34m\u001b[0m\u001b[0m\n",
      "\u001b[0;32m/usr/local/lib/python3.6/dist-packages/matplotlib-3.1.1-py3.6-linux-x86_64.egg/matplotlib/pyplot.py\u001b[0m in \u001b[0;36mplot\u001b[0;34m(scalex, scaley, data, *args, **kwargs)\u001b[0m\n\u001b[1;32m   2793\u001b[0m     return gca().plot(\n\u001b[1;32m   2794\u001b[0m         *args, scalex=scalex, scaley=scaley, **({\"data\": data} if data\n\u001b[0;32m-> 2795\u001b[0;31m         is not None else {}), **kwargs)\n\u001b[0m\u001b[1;32m   2796\u001b[0m \u001b[0;34m\u001b[0m\u001b[0m\n\u001b[1;32m   2797\u001b[0m \u001b[0;34m\u001b[0m\u001b[0m\n",
      "\u001b[0;32m/usr/local/lib/python3.6/dist-packages/matplotlib-3.1.1-py3.6-linux-x86_64.egg/matplotlib/axes/_axes.py\u001b[0m in \u001b[0;36mplot\u001b[0;34m(self, scalex, scaley, data, *args, **kwargs)\u001b[0m\n\u001b[1;32m   1664\u001b[0m         \"\"\"\n\u001b[1;32m   1665\u001b[0m         \u001b[0mkwargs\u001b[0m \u001b[0;34m=\u001b[0m \u001b[0mcbook\u001b[0m\u001b[0;34m.\u001b[0m\u001b[0mnormalize_kwargs\u001b[0m\u001b[0;34m(\u001b[0m\u001b[0mkwargs\u001b[0m\u001b[0;34m,\u001b[0m \u001b[0mmlines\u001b[0m\u001b[0;34m.\u001b[0m\u001b[0mLine2D\u001b[0m\u001b[0;34m.\u001b[0m\u001b[0m_alias_map\u001b[0m\u001b[0;34m)\u001b[0m\u001b[0;34m\u001b[0m\u001b[0;34m\u001b[0m\u001b[0m\n\u001b[0;32m-> 1666\u001b[0;31m         \u001b[0mlines\u001b[0m \u001b[0;34m=\u001b[0m \u001b[0;34m[\u001b[0m\u001b[0;34m*\u001b[0m\u001b[0mself\u001b[0m\u001b[0;34m.\u001b[0m\u001b[0m_get_lines\u001b[0m\u001b[0;34m(\u001b[0m\u001b[0;34m*\u001b[0m\u001b[0margs\u001b[0m\u001b[0;34m,\u001b[0m \u001b[0mdata\u001b[0m\u001b[0;34m=\u001b[0m\u001b[0mdata\u001b[0m\u001b[0;34m,\u001b[0m \u001b[0;34m**\u001b[0m\u001b[0mkwargs\u001b[0m\u001b[0;34m)\u001b[0m\u001b[0;34m]\u001b[0m\u001b[0;34m\u001b[0m\u001b[0;34m\u001b[0m\u001b[0m\n\u001b[0m\u001b[1;32m   1667\u001b[0m         \u001b[0;32mfor\u001b[0m \u001b[0mline\u001b[0m \u001b[0;32min\u001b[0m \u001b[0mlines\u001b[0m\u001b[0;34m:\u001b[0m\u001b[0;34m\u001b[0m\u001b[0;34m\u001b[0m\u001b[0m\n\u001b[1;32m   1668\u001b[0m             \u001b[0mself\u001b[0m\u001b[0;34m.\u001b[0m\u001b[0madd_line\u001b[0m\u001b[0;34m(\u001b[0m\u001b[0mline\u001b[0m\u001b[0;34m)\u001b[0m\u001b[0;34m\u001b[0m\u001b[0;34m\u001b[0m\u001b[0m\n",
      "\u001b[0;32m/usr/local/lib/python3.6/dist-packages/matplotlib-3.1.1-py3.6-linux-x86_64.egg/matplotlib/axes/_base.py\u001b[0m in \u001b[0;36m__call__\u001b[0;34m(self, *args, **kwargs)\u001b[0m\n\u001b[1;32m    223\u001b[0m                 \u001b[0mthis\u001b[0m \u001b[0;34m+=\u001b[0m \u001b[0margs\u001b[0m\u001b[0;34m[\u001b[0m\u001b[0;36m0\u001b[0m\u001b[0;34m]\u001b[0m\u001b[0;34m,\u001b[0m\u001b[0;34m\u001b[0m\u001b[0;34m\u001b[0m\u001b[0m\n\u001b[1;32m    224\u001b[0m                 \u001b[0margs\u001b[0m \u001b[0;34m=\u001b[0m \u001b[0margs\u001b[0m\u001b[0;34m[\u001b[0m\u001b[0;36m1\u001b[0m\u001b[0;34m:\u001b[0m\u001b[0;34m]\u001b[0m\u001b[0;34m\u001b[0m\u001b[0;34m\u001b[0m\u001b[0m\n\u001b[0;32m--> 225\u001b[0;31m             \u001b[0;32myield\u001b[0m \u001b[0;32mfrom\u001b[0m \u001b[0mself\u001b[0m\u001b[0;34m.\u001b[0m\u001b[0m_plot_args\u001b[0m\u001b[0;34m(\u001b[0m\u001b[0mthis\u001b[0m\u001b[0;34m,\u001b[0m \u001b[0mkwargs\u001b[0m\u001b[0;34m)\u001b[0m\u001b[0;34m\u001b[0m\u001b[0;34m\u001b[0m\u001b[0m\n\u001b[0m\u001b[1;32m    226\u001b[0m \u001b[0;34m\u001b[0m\u001b[0m\n\u001b[1;32m    227\u001b[0m     \u001b[0;32mdef\u001b[0m \u001b[0mget_next_color\u001b[0m\u001b[0;34m(\u001b[0m\u001b[0mself\u001b[0m\u001b[0;34m)\u001b[0m\u001b[0;34m:\u001b[0m\u001b[0;34m\u001b[0m\u001b[0;34m\u001b[0m\u001b[0m\n",
      "\u001b[0;32m/usr/local/lib/python3.6/dist-packages/matplotlib-3.1.1-py3.6-linux-x86_64.egg/matplotlib/axes/_base.py\u001b[0m in \u001b[0;36m_plot_args\u001b[0;34m(self, tup, kwargs)\u001b[0m\n\u001b[1;32m    389\u001b[0m             \u001b[0mx\u001b[0m\u001b[0;34m,\u001b[0m \u001b[0my\u001b[0m \u001b[0;34m=\u001b[0m \u001b[0mindex_of\u001b[0m\u001b[0;34m(\u001b[0m\u001b[0mtup\u001b[0m\u001b[0;34m[\u001b[0m\u001b[0;34m-\u001b[0m\u001b[0;36m1\u001b[0m\u001b[0;34m]\u001b[0m\u001b[0;34m)\u001b[0m\u001b[0;34m\u001b[0m\u001b[0;34m\u001b[0m\u001b[0m\n\u001b[1;32m    390\u001b[0m \u001b[0;34m\u001b[0m\u001b[0m\n\u001b[0;32m--> 391\u001b[0;31m         \u001b[0mx\u001b[0m\u001b[0;34m,\u001b[0m \u001b[0my\u001b[0m \u001b[0;34m=\u001b[0m \u001b[0mself\u001b[0m\u001b[0;34m.\u001b[0m\u001b[0m_xy_from_xy\u001b[0m\u001b[0;34m(\u001b[0m\u001b[0mx\u001b[0m\u001b[0;34m,\u001b[0m \u001b[0my\u001b[0m\u001b[0;34m)\u001b[0m\u001b[0;34m\u001b[0m\u001b[0;34m\u001b[0m\u001b[0m\n\u001b[0m\u001b[1;32m    392\u001b[0m \u001b[0;34m\u001b[0m\u001b[0m\n\u001b[1;32m    393\u001b[0m         \u001b[0;32mif\u001b[0m \u001b[0mself\u001b[0m\u001b[0;34m.\u001b[0m\u001b[0mcommand\u001b[0m \u001b[0;34m==\u001b[0m \u001b[0;34m'plot'\u001b[0m\u001b[0;34m:\u001b[0m\u001b[0;34m\u001b[0m\u001b[0;34m\u001b[0m\u001b[0m\n",
      "\u001b[0;32m/usr/local/lib/python3.6/dist-packages/matplotlib-3.1.1-py3.6-linux-x86_64.egg/matplotlib/axes/_base.py\u001b[0m in \u001b[0;36m_xy_from_xy\u001b[0;34m(self, x, y)\u001b[0m\n\u001b[1;32m    268\u001b[0m         \u001b[0;32mif\u001b[0m \u001b[0mx\u001b[0m\u001b[0;34m.\u001b[0m\u001b[0mshape\u001b[0m\u001b[0;34m[\u001b[0m\u001b[0;36m0\u001b[0m\u001b[0;34m]\u001b[0m \u001b[0;34m!=\u001b[0m \u001b[0my\u001b[0m\u001b[0;34m.\u001b[0m\u001b[0mshape\u001b[0m\u001b[0;34m[\u001b[0m\u001b[0;36m0\u001b[0m\u001b[0;34m]\u001b[0m\u001b[0;34m:\u001b[0m\u001b[0;34m\u001b[0m\u001b[0;34m\u001b[0m\u001b[0m\n\u001b[1;32m    269\u001b[0m             raise ValueError(\"x and y must have same first dimension, but \"\n\u001b[0;32m--> 270\u001b[0;31m                              \"have shapes {} and {}\".format(x.shape, y.shape))\n\u001b[0m\u001b[1;32m    271\u001b[0m         \u001b[0;32mif\u001b[0m \u001b[0mx\u001b[0m\u001b[0;34m.\u001b[0m\u001b[0mndim\u001b[0m \u001b[0;34m>\u001b[0m \u001b[0;36m2\u001b[0m \u001b[0;32mor\u001b[0m \u001b[0my\u001b[0m\u001b[0;34m.\u001b[0m\u001b[0mndim\u001b[0m \u001b[0;34m>\u001b[0m \u001b[0;36m2\u001b[0m\u001b[0;34m:\u001b[0m\u001b[0;34m\u001b[0m\u001b[0;34m\u001b[0m\u001b[0m\n\u001b[1;32m    272\u001b[0m             raise ValueError(\"x and y can be no greater than 2-D, but have \"\n",
      "\u001b[0;31mValueError\u001b[0m: x and y must have same first dimension, but have shapes (2000,) and (200,)"
     ]
    }
   ],
   "source": [
    "plt.plot(x_data,MA_arr,'r')\n",
    "plt.plot(x, y,'g')\n",
    "plt.axis([0, 50, 0, 50])\n",
    "plt.show()"
   ]
  },
  {
   "cell_type": "code",
   "execution_count": null,
   "metadata": {},
   "outputs": [],
   "source": [
    "def ARIMA(x,y,my_x,p,q,d):\n",
    "    new_y = [0]\n",
    "    new_y1 = []\n",
    "    \n",
    "    MA_plust_ar = 0\n",
    "    \n",
    "    if d == 0:\n",
    "        MA_res = MA_foresee(y,q)\n",
    "        AR_res = auto_reg(x_data,y,p=p,my_x=my_x)\n",
    "        print(\"result MA = \", MA_res)\n",
    "        print(\"result AR = \", AR_res)\n",
    "        MA_plust_ar = MA_res + AR_res\n",
    "    elif d == 1:\n",
    "        for i in range(len(y)):\n",
    "            num = y[i] - y[i-1]\n",
    "            new_y.append(int(num))\n",
    "            num = 0\n",
    "        MA_res = MA_foresee(new_y,q)\n",
    "        AR_res = auto_reg(x_data,new_y,p=p,my_x=my_x)\n",
    "        print(\"result MA = \", MA_res)\n",
    "        print(\"result AR = \", AR_res)\n",
    "        MA_plust_ar = MA_res + AR_res\n",
    "      \n",
    "    elif d == 2:\n",
    "        for i in range(len(y)):\n",
    "            num = y[i] - y[i-1]\n",
    "            new_y.append(int(num))\n",
    "            num = 0\n",
    "        for i in range(len(new_y)):\n",
    "            num = new_y[i] - new_y[i-1]\n",
    "            new_y1.append(num)\n",
    "            num = 0\n",
    "        arr_MA = SMA(new_y1,p)\n",
    "        res_MA = 0\n",
    "        for i in range(len(arr_MA)):\n",
    "            res_MA += arrMA[i]\n",
    "        arr_AR = auto_reg()\n",
    "        \n",
    "    return MA_plust_ar\n",
    "        \n",
    "ARIMA(x_data,y,my_x=100,p=1,q=1,d=0)"
   ]
  },
  {
   "cell_type": "code",
   "execution_count": null,
   "metadata": {},
   "outputs": [],
   "source": [
    "print(ARIMA(x_data,y,my_x=201,p=2,q=6,d=0))"
   ]
  },
  {
   "cell_type": "code",
   "execution_count": null,
   "metadata": {},
   "outputs": [],
   "source": [
    "test_y = []\n",
    "temp_y = []\n",
    "temp_y.extend(data['data'])\n",
    "for i in range(2003):\n",
    "    test_y.append(temp_y[i])"
   ]
  },
  {
   "cell_type": "code",
   "execution_count": null,
   "metadata": {},
   "outputs": [],
   "source": [
    "print(test_y[201])"
   ]
  },
  {
   "cell_type": "code",
   "execution_count": null,
   "metadata": {},
   "outputs": [],
   "source": [
    "# Скільзьке середнє :\n",
    "def SMA(b,p=3):\n",
    "    SMA_res = []\n",
    "    sum_b = 0\n",
    "    num = 0\n",
    "    for i in range(len(b) - p):\n",
    "        for j in range(p):\n",
    "            sum_b += b[i+j]\n",
    "        SMA_res.append(sum_b / p)\n",
    "        sum_b = 0\n",
    "    return SMA_res\n",
    "def MA_foresee(b,p):\n",
    "    SMA_res = 0\n",
    "\n",
    "    for i in range(p):\n",
    "        sum_b = len(b) - i -1\n",
    "        SMA_res += b[sum_b]\n",
    "        SMA_res /= p\n",
    "    return SMA_res\n",
    "\n",
    "def MAGrath(b,p=3):\n",
    "    SMA_res = []\n",
    "    sum_b = 0\n",
    "    num = 0\n",
    "    for i in range(len(b) - p):\n",
    "        for j in range(p):\n",
    "            sum_b += b[i+j]\n",
    "        SMA_res.append(sum_b / p)\n",
    "        sum_b = 0\n",
    "    return SMA_res\n",
    "\n",
    "MA_foresee(y,2)"
   ]
  },
  {
   "cell_type": "code",
   "execution_count": null,
   "metadata": {},
   "outputs": [],
   "source": [
    "# Автокорегресія :\n",
    "def auto_reg(a,b,p=1):\n",
    "    w0,w1 = minMNK(a,b)\n",
    "    function = w0\n",
    "    #print(w0)\n",
    "    result_array = []\n",
    "    for i in range(70):\n",
    "        len_arr = len(a) - i -1\n",
    "        w0,w1 = minMNK(a[0:len_arr],b[0:len_arr])\n",
    "        function += b[len_arr] * w1        \n",
    "        result_array.append(function)\n",
    "    return result_array\n",
    "arr_Reg = auto_reg(x_data,y,p=5)\n",
    "print(len(arr_Reg))\n",
    "print(arr_Reg)"
   ]
  },
  {
   "cell_type": "code",
   "execution_count": null,
   "metadata": {},
   "outputs": [],
   "source": [
    "def ARIMA(p,q,d):\n",
    "    new_y = []\n",
    "    new_y1 = []\n",
    "    \n",
    "    MA_plust_ar = 0\n",
    "    \n",
    "    if d == 1:\n",
    "        for i in range(len(y)):\n",
    "            num = y[i] - y[i-1]\n",
    "            #print(y[i])\n",
    "            new_y.append(int(num))\n",
    "            num = 0\n",
    "        print(len(x_data))\n",
    "        print(len(new_y))\n",
    "        plt.plot(x_data, y,'r')\n",
    "        plt.plot(x_data,new_y,'b')\n",
    "        plt.axis([-50, 150, -50, 150])\n",
    "        plt.show()\n",
    "\n",
    "    elif d == 0 : \n",
    "        arr_MA = [0,0,0]\n",
    "        temp_MA = MAGrath(y)\n",
    "        for i in range(len(temp_MA)):\n",
    "            tr = temp_MA[i]\n",
    "            arr_MA.append(tr)\n",
    "        plt.plot(x_data,arr_MA,'r')\n",
    "        plt.plot(x_data,y,'b')\n",
    "        plt.axis([-10, 350, -10, 20])\n",
    "        plt.show()\n",
    "ARIMA(p=1,q=1,d=0)"
   ]
  },
  {
   "cell_type": "code",
   "execution_count": null,
   "metadata": {},
   "outputs": [],
   "source": []
  },
  {
   "cell_type": "code",
   "execution_count": null,
   "metadata": {},
   "outputs": [],
   "source": []
  },
  {
   "cell_type": "code",
   "execution_count": null,
   "metadata": {},
   "outputs": [],
   "source": []
  }
 ],
 "metadata": {
  "kernelspec": {
   "display_name": "Python 3",
   "language": "python",
   "name": "python3"
  },
  "language_info": {
   "codemirror_mode": {
    "name": "ipython",
    "version": 3
   },
   "file_extension": ".py",
   "mimetype": "text/x-python",
   "name": "python",
   "nbconvert_exporter": "python",
   "pygments_lexer": "ipython3",
   "version": "3.6.8"
  }
 },
 "nbformat": 4,
 "nbformat_minor": 2
}
