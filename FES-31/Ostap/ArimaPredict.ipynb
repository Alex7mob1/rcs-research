{
 "cells": [
  {
   "cell_type": "code",
   "execution_count": 15,
   "metadata": {
    "colab": {},
    "colab_type": "code",
    "id": "VxTYevI8RwDE"
   },
   "outputs": [],
   "source": [
    "import math \n",
    "import matplotlib.pyplot as plt\n",
    "from sympy import symbols, diff\n",
    "import re\n",
    "import numpy as np\n",
    "\n",
    "import pandas as pd\n",
    "from statsmodels.tsa.arima_model import ARIMA\n",
    "import statsmodels.api as sm"
   ]
  },
  {
   "cell_type": "code",
   "execution_count": 16,
   "metadata": {
    "colab": {},
    "colab_type": "code",
    "id": "dldcFzDgRwDM"
   },
   "outputs": [],
   "source": [
    "# Data : \n",
    "# Продаж солодкої води :\n",
    "\n",
    "x = [i for i in range(1,37)]\n",
    "\n",
    "y = [9,10,10,11,12,18,26,40,39,28,20,13,\n",
    "     8,9,11,9,13,15,33,45,45,25,18,10,\n",
    "     7,9,10,11,13,15,31,40,35,26,19,13]\n",
    "\n",
    "\n"
   ]
  },
  {
   "cell_type": "code",
   "execution_count": 17,
   "metadata": {
    "colab": {
     "base_uri": "https://localhost:8080/",
     "height": 268
    },
    "colab_type": "code",
    "id": "8Yk3MYTYRwDS",
    "outputId": "b9dd3eaa-4b91-456b-a88a-a8105892dc0e"
   },
   "outputs": [
    {
     "data": {
      "image/png": "[encoded data removed]",
      "text/plain": [
       "<Figure size 432x288 with 1 Axes>"
      ]
     },
     "metadata": {
      "needs_background": "light"
     },
     "output_type": "display_data"
    }
   ],
   "source": [
    "plt.plot(x, y)\n",
    "plt.axis([0, 50, 0, 50])\n",
    "plt.show()"
   ]
  },
  {
   "cell_type": "code",
   "execution_count": 18,
   "metadata": {
    "colab": {},
    "colab_type": "code",
    "id": "Kv-rUAjGRwDZ"
   },
   "outputs": [],
   "source": [
    "## Stage find regressions : \n",
    "\n",
    "def Cov(a,b):\n",
    "    a = list(a)\n",
    "    b = list(b)\n",
    "    \n",
    "    avr_a = 0\n",
    "    for i in range(len(a)):\n",
    "        avr_a +=a[i]\n",
    "    avr_a /=len(a)\n",
    "    \n",
    "    avr_b = 0\n",
    "    for i in range(len(b)):\n",
    "        avr_b += b[i]\n",
    "    avr_b /= len(b)\n",
    "    \n",
    "    znamenik = 0\n",
    "    for i in range(len(a)):\n",
    "        znamenik += (a[i] - avr_a) * (b[i] - avr_b)\n",
    "    \n",
    "    chiselnik = len(a) - 1\n",
    "    \n",
    "    cov = 0 \n",
    "    \n",
    "    cov = znamenik / chiselnik\n",
    "    \n",
    "    return cov\n"
   ]
  },
  {
   "cell_type": "code",
   "execution_count": 19,
   "metadata": {
    "colab": {
     "base_uri": "https://localhost:8080/",
     "height": 34
    },
    "colab_type": "code",
    "id": "yHVmL5O9RwDe",
    "outputId": "091bd6a8-3e28-4db4-fb13-a55125a53d69"
   },
   "outputs": [
    {
     "name": "stdout",
     "output_type": "stream",
     "text": [
      "кореляція =  18.62857142857143\n"
     ]
    }
   ],
   "source": [
    "print('кореляція = ', Cov(x,y))"
   ]
  },
  {
   "cell_type": "code",
   "execution_count": 20,
   "metadata": {
    "colab": {
     "base_uri": "https://localhost:8080/",
     "height": 34
    },
    "colab_type": "code",
    "id": "6btVEYc4RwDk",
    "outputId": "273b41e4-fef1-4116-fb69-23d64e1ff5a1"
   },
   "outputs": [
    {
     "name": "stdout",
     "output_type": "stream",
     "text": [
      "Кофіцієнт кореляції : 0.00429572464444998\n"
     ]
    }
   ],
   "source": [
    "def standart_error(a,b):\n",
    "    # Дисперсії :\n",
    "    avr_a = 0\n",
    "    for i in range(len(a)):\n",
    "        avr_a += a[i]\n",
    "    avr_a /=len(a)\n",
    "    \n",
    "    avr_b = 0\n",
    "    for i in range(len(b)):\n",
    "        avr_b += b[i]  \n",
    "    avr_b /= len(b)\n",
    "    \n",
    "    d_a = 0 # dispersia\n",
    "    for i in range(len(a)):\n",
    "        d_a += math.pow((a[i] - avr_a),2)\n",
    "        \n",
    "    d_b = 0 # dispersia\n",
    "    for i in range(len(b)):\n",
    "        d_b += math.pow((b[i] - avr_b),2)\n",
    "        \n",
    "    # Стандартне відхилення :\n",
    "    std_a = 0\n",
    "    std_b = 0\n",
    "    \n",
    "    std_a = math.pow(d_a,(0.5))\n",
    "    std_b = math.pow(d_b ,(0.5))\n",
    "    \n",
    "    return std_a,std_b \n",
    "\n",
    "def rxy(a,b):\n",
    "    std_a,std_b = standart_error(a,b)\n",
    "    # cof_korell :\n",
    "    cov = Cov(a,b)\n",
    "    cof_korell = cov / (std_a * std_b)\n",
    "    \n",
    "    return cof_korell\n",
    "print('Кофіцієнт кореляції :',rxy(x,y))"
   ]
  },
  {
   "cell_type": "code",
   "execution_count": 21,
   "metadata": {
    "colab": {
     "base_uri": "https://localhost:8080/",
     "height": 34
    },
    "colab_type": "code",
    "id": "sQ3nQBm6RwDp",
    "outputId": "515ede4a-d694-4c3c-ea16-499437a10f61"
   },
   "outputs": [
    {
     "name": "stdout",
     "output_type": "stream",
     "text": [
      "Кофіцієнт детермінації :  0.06554177785542577\n"
     ]
    }
   ],
   "source": [
    "print('Кофіцієнт детермінації : ',math.pow(rxy(x,y),(0.5)))"
   ]
  },
  {
   "cell_type": "code",
   "execution_count": 22,
   "metadata": {
    "colab": {
     "base_uri": "https://localhost:8080/",
     "height": 34
    },
    "colab_type": "code",
    "id": "aeKDrTWjRwDv",
    "outputId": "02c1b3dd-1c4f-40c8-cf57-34f526895249"
   },
   "outputs": [
    {
     "data": {
      "text/plain": [
       "16.688890243688178"
      ]
     },
     "execution_count": 22,
     "metadata": {},
     "output_type": "execute_result"
    }
   ],
   "source": [
    "def firstRegressor(a,b):\n",
    "    std_a,std_b = standart_error(a,b)\n",
    "    cov = Cov(a,b)\n",
    "    \n",
    "    # Регресор :\n",
    "    first = (std_a / std_b) * cov\n",
    "    return first \n",
    "firstRegressor(x,y)"
   ]
  },
  {
   "cell_type": "code",
   "execution_count": 23,
   "metadata": {
    "colab": {
     "base_uri": "https://localhost:8080/",
     "height": 34
    },
    "colab_type": "code",
    "id": "KjLi_uO0RwD1",
    "outputId": "892e971c-607d-4c8c-a435-fbad5870bdf7"
   },
   "outputs": [
    {
     "data": {
      "text/plain": [
       "-289.1333583971202"
      ]
     },
     "execution_count": 23,
     "metadata": {},
     "output_type": "execute_result"
    }
   ],
   "source": [
    "def secondRegressor(a,b):\n",
    "    avr_a = 0\n",
    "    for i in range(len(a)):\n",
    "        avr_a += a[i]\n",
    "    avr_a /= len(a)\n",
    "    \n",
    "    avr_b = 0\n",
    "    for i in range(len(b)):\n",
    "        avr_b += b[i]\n",
    "    avr_b /= len(b)\n",
    "    first = firstRegressor(a,b)\n",
    "    \n",
    "    second = avr_b - (first * avr_a)\n",
    "    return second\n",
    "secondRegressor(x,y)"
   ]
  },
  {
   "cell_type": "code",
   "execution_count": null,
   "metadata": {
    "colab": {},
    "colab_type": "code",
    "id": "qWqVJ1bXRwD6"
   },
   "outputs": [],
   "source": []
  },
  {
   "cell_type": "code",
   "execution_count": null,
   "metadata": {
    "colab": {},
    "colab_type": "code",
    "id": "xffzaFnzRwD_"
   },
   "outputs": [],
   "source": []
  },
  {
   "cell_type": "code",
   "execution_count": 24,
   "metadata": {
    "colab": {
     "base_uri": "https://localhost:8080/",
     "height": 34
    },
    "colab_type": "code",
    "id": "tBLmIuSvRwEE",
    "outputId": "ccec4b53-3fdf-4c50-bb3f-a5995f27fc71"
   },
   "outputs": [
    {
     "data": {
      "text/plain": [
       "(16.506349206349206, 0.16782496782496775)"
      ]
     },
     "execution_count": 24,
     "metadata": {},
     "output_type": "execute_result"
    }
   ],
   "source": [
    "def minMNK(a,b):\n",
    "    function = 0\n",
    "    w0, w1 = symbols('x y', real=True)\n",
    "    \n",
    "    for i in range(len(a)):\n",
    "        function +=(w1*a[i] + w0 - b[i]) ** 2\n",
    "        \n",
    "    #print(function)\n",
    "    \n",
    "    function1W0 = diff(function,w0)\n",
    "    function2W1 = diff(function,w1)\n",
    "        \n",
    "    #print(function1W0)\n",
    "   # print(function2W1)\n",
    "    \n",
    "    function1W0 = str(function1W0)\n",
    "    function2W1 = str(function2W1)\n",
    "    \n",
    "\n",
    "    result1 = re.findall(r'\\d+',function1W0)\n",
    "    result2 = re.findall(r'\\d+',function2W1)\n",
    "    \n",
    "    for i in range(len(result1)):\n",
    "        result1[i] = int(result1[i])\n",
    "        \n",
    "    for i in range(len(result2)):\n",
    "        result2[i] = int(result2[i])\n",
    "    \n",
    "    \n",
    "    matrix = [result1[0:2],result2[0:2]]\n",
    "    matrix_result = [result1[2],result2[2]]\n",
    "    \n",
    "    #print('\\n')\n",
    "    \n",
    "    #for i in range(2):\n",
    "       # print(matrix[i],'  \\t=   ',matrix_result[i])\n",
    "    \n",
    "    #print(matrix)\n",
    "    #print(matrix_result)\n",
    "    resultAll = np.linalg.solve(matrix,matrix_result)\n",
    "    \n",
    "    new_w0, new_w1 = resultAll\n",
    "    \n",
    "    return new_w0, new_w1\n",
    "minMNK(x,y)  "
   ]
  },
  {
   "cell_type": "code",
   "execution_count": 25,
   "metadata": {
    "colab": {},
    "colab_type": "code",
    "id": "ZmTZGPKRRwEJ"
   },
   "outputs": [],
   "source": [
    "def linerRegression(a,b,x):\n",
    "    w0,w1 = minMNK(a,b)\n",
    "    y = w0 + (w1*x)\n",
    "    return y "
   ]
  },
  {
   "cell_type": "code",
   "execution_count": 26,
   "metadata": {
    "colab": {
     "base_uri": "https://localhost:8080/",
     "height": 34
    },
    "colab_type": "code",
    "id": "V_eATPtQRwES",
    "outputId": "7cfea361-d595-491e-cfb0-18409db03788"
   },
   "outputs": [
    {
     "name": "stdout",
     "output_type": "stream",
     "text": [
      "Результат лінійної регресі на 37 місяць :  22.715873015873015\n"
     ]
    }
   ],
   "source": [
    "print('Результат лінійної регресі на 37 місяць : ', linerRegression(x,y,37))"
   ]
  },
  {
   "cell_type": "code",
   "execution_count": null,
   "metadata": {
    "colab": {},
    "colab_type": "code",
    "id": "RZqVcwQlRwEW"
   },
   "outputs": [],
   "source": []
  },
  {
   "cell_type": "markdown",
   "metadata": {
    "colab_type": "text",
    "id": "xYOdy_W3SFgB"
   },
   "source": [
    "## DegreeData : "
   ]
  },
  {
   "cell_type": "code",
   "execution_count": 27,
   "metadata": {
    "colab": {},
    "colab_type": "code",
    "id": "1MrFBlHtRwEc"
   },
   "outputs": [],
   "source": [
    "data = pd.read_csv('full_external_temperatures.csv',header=0, parse_dates=[0], index_col=0, squeeze=True)"
   ]
  },
  {
   "cell_type": "code",
   "execution_count": 28,
   "metadata": {
    "colab": {},
    "colab_type": "code",
    "id": "SVSXnO7yRwEk"
   },
   "outputs": [],
   "source": [
    "x = []\n",
    "temp_x = []\n",
    "temp_x.extend(data['dateTime'])\n",
    "for i in range(2000):\n",
    "    x.append(temp_x[i])\n",
    "    \n",
    "x_data = []\n",
    "for i in range(200):\n",
    "    x_data.append(i)"
   ]
  },
  {
   "cell_type": "code",
   "execution_count": 29,
   "metadata": {
    "colab": {},
    "colab_type": "code",
    "id": "K57KbajgRwEq"
   },
   "outputs": [],
   "source": [
    "y = []\n",
    "temp_y = []\n",
    "temp_y.extend(data['data'])\n",
    "for i in range(200):\n",
    "    y.append(temp_y[i])"
   ]
  },
  {
   "cell_type": "code",
   "execution_count": 30,
   "metadata": {
    "colab": {},
    "colab_type": "code",
    "id": "9f4GM0j8RwEv"
   },
   "outputs": [],
   "source": [
    "test_y = []\n",
    "temp_y = []\n",
    "temp_y.extend(data['data'])\n",
    "for i in range(2003):\n",
    "    test_y.append(temp_y[i])"
   ]
  },
  {
   "cell_type": "code",
   "execution_count": 31,
   "metadata": {
    "colab": {},
    "colab_type": "code",
    "id": "sqECEXo4LYQg"
   },
   "outputs": [],
   "source": [
    "train = pd.DataFrame({'time':x_data,'value':y})"
   ]
  },
  {
   "cell_type": "code",
   "execution_count": 32,
   "metadata": {
    "colab": {
     "base_uri": "https://localhost:8080/",
     "height": 34
    },
    "colab_type": "code",
    "id": "A9qEznRzRwE0",
    "outputId": "b0d98dc2-4b09-4eb6-a1da-9372cac36fce"
   },
   "outputs": [
    {
     "data": {
      "text/plain": [
       "8.931993883482486"
      ]
     },
     "execution_count": 32,
     "metadata": {},
     "output_type": "execute_result"
    }
   ],
   "source": [
    "# Автокорегресія :\n",
    "def auto_reg(a,b,p=1):\n",
    "    w0,w1 = minMNK(a,b)\n",
    "    function = w0\n",
    "    #print(w0)\n",
    "    result_array = []\n",
    "    for i in range(p):\n",
    "        len_arr = len(a) - i -1\n",
    "        \n",
    "        w0,w1 = minMNK(a[0:len_arr],b[0:len_arr])\n",
    "        #print('liner - ',res_liner_regr, 'b - ',b[len_arr])\n",
    "        function += b[len_arr] * w1\n",
    "        \n",
    "        result_array.append(function)\n",
    "    return function\n",
    "auto_reg(x_data,y,p=5)"
   ]
  },
  {
   "cell_type": "code",
   "execution_count": 33,
   "metadata": {
    "colab": {
     "base_uri": "https://localhost:8080/",
     "height": 34
    },
    "colab_type": "code",
    "id": "LwfkFmLMRwE8",
    "outputId": "578bc694-45c3-4566-eb6c-26a2d817cdda"
   },
   "outputs": [
    {
     "data": {
      "text/plain": [
       "8.254999999999999"
      ]
     },
     "execution_count": 33,
     "metadata": {},
     "output_type": "execute_result"
    }
   ],
   "source": [
    "# Скільзьке середнє :\n",
    "def SMA(b,p=3):\n",
    "    SMA_res = []\n",
    "    sum_b = 0\n",
    "    num = 0\n",
    "    for i in range(len(b) - p):\n",
    "        for j in range(p):\n",
    "            sum_b += b[i+j]\n",
    "        SMA_res.append(sum_b / p)\n",
    "        sum_b = 0\n",
    "    return SMA_res\n",
    "def MA_foresee(b,p):\n",
    "    SMA_res = 0\n",
    "\n",
    "    for i in range(p):\n",
    "        sum_b = len(b) - i -1\n",
    "        SMA_res += b[sum_b]\n",
    "        SMA_res /= p\n",
    "    return SMA_res\n",
    "def MAGrath(b,p=3):\n",
    "    SMA_res = []\n",
    "    sum_b = 0\n",
    "    num = 0\n",
    "    for i in range(len(b) - p):\n",
    "        for j in range(p):\n",
    "            sum_b += b[i+j]\n",
    "        SMA_res.append(sum_b / p)\n",
    "        sum_b = 0\n",
    "    return SMA_res\n",
    "\n",
    "MA_foresee(y,2)"
   ]
  },
  {
   "cell_type": "code",
   "execution_count": 34,
   "metadata": {
    "colab": {},
    "colab_type": "code",
    "id": "ZfNGzLyZRwFH"
   },
   "outputs": [],
   "source": [
    "MA_arr = [0,0,0]\n",
    "temp_arr = SMA(y)\n",
    "for i in range(len(temp_arr)):\n",
    "    MA_arr.append(temp_arr[i])"
   ]
  },
  {
   "cell_type": "code",
   "execution_count": null,
   "metadata": {
    "colab": {},
    "colab_type": "code",
    "id": "FXmrssURRwFP"
   },
   "outputs": [],
   "source": []
  },
  {
   "cell_type": "code",
   "execution_count": 35,
   "metadata": {
    "colab": {
     "base_uri": "https://localhost:8080/",
     "height": 268
    },
    "colab_type": "code",
    "id": "wP4uaH3ZRwFT",
    "outputId": "ffc9245c-2121-46f8-b5aa-a932a41ca87e"
   },
   "outputs": [
    {
     "data": {
      "image/png": "[encoded data removed]",
      "text/plain": [
       "<Figure size 432x288 with 1 Axes>"
      ]
     },
     "metadata": {
      "needs_background": "light"
     },
     "output_type": "display_data"
    }
   ],
   "source": [
    "plt.plot(x_data,MA_arr,'r')\n",
    "plt.plot(x_data, y,'g')\n",
    "plt.axis([0, 50, 0, 50])\n",
    "plt.show()"
   ]
  },
  {
   "cell_type": "code",
   "execution_count": 36,
   "metadata": {
    "colab": {},
    "colab_type": "code",
    "id": "h11iBlolUBFt"
   },
   "outputs": [],
   "source": [
    "test_y = []\n",
    "temp_y = []\n",
    "temp_y.extend(data['data'])\n",
    "for i in range(2003):\n",
    "    test_y.append(temp_y[i])"
   ]
  },
  {
   "cell_type": "code",
   "execution_count": 37,
   "metadata": {
    "colab": {
     "base_uri": "https://localhost:8080/",
     "height": 34
    },
    "colab_type": "code",
    "id": "9ubAvi1SUDJU",
    "outputId": "85f7dff6-3a06-45f6-adfe-4cfb280965cd"
   },
   "outputs": [
    {
     "name": "stdout",
     "output_type": "stream",
     "text": [
      "10.29\n"
     ]
    }
   ],
   "source": [
    "print(test_y[201])"
   ]
  },
  {
   "cell_type": "code",
   "execution_count": 56,
   "metadata": {
    "colab": {
     "base_uri": "https://localhost:8080/",
     "height": 340
    },
    "colab_type": "code",
    "id": "1pD1xFdkRwFY",
    "outputId": "e09a1b3c-82ca-435e-ee72-c14aa6e3a752"
   },
   "outputs": [
    {
     "name": "stdout",
     "output_type": "stream",
     "text": [
      "result MA =  <class 'numpy.float64'>\n",
      "result AR =  <class 'numpy.float64'>\n"
     ]
    },
    {
     "data": {
      "image/png": "[encoded data removed]",
      "text/plain": [
       "<Figure size 432x288 with 1 Axes>"
      ]
     },
     "metadata": {
      "needs_background": "light"
     },
     "output_type": "display_data"
    },
    {
     "name": "stdout",
     "output_type": "stream",
     "text": [
      "predict 10.377690447771062\n",
      "True value 10.29\n"
     ]
    }
   ],
   "source": [
    "def ARIMA(x,y,my_x,p,q,d):\n",
    "    new_y = [0]\n",
    "    new_y1 = []\n",
    "    \n",
    "    MA_plust_ar = 0\n",
    "    \n",
    "    if d == 0:\n",
    "        MA_res = MA_foresee(y,q)\n",
    "        AR_res = auto_reg(x_data,y,p=p)\n",
    "        print(\"result MA = \", type(MA_res))\n",
    "        print(\"result AR = \", type(AR_res))\n",
    "        MA_plust_ar = MA_res + AR_res\n",
    "        \n",
    "        arr_MA = [0,0,0]\n",
    "        temp_MA = MAGrath(y)\n",
    "        for i in range(len(temp_MA)):\n",
    "            tr = temp_MA[i]\n",
    "            arr_MA.append(tr)\n",
    "        plt.plot(x_data,arr_MA,'r')\n",
    "        plt.plot(x_data,y,'b')\n",
    "        plt.axis([-10, 210, -10, 20])\n",
    "        plt.show()\n",
    "    elif d == 1:\n",
    "        for i in range(len(y)):\n",
    "            num = y[i] - y[i-1]\n",
    "            new_y.append(int(num))\n",
    "            num = 0\n",
    "        MA_res = MA_foresee(new_y,q)\n",
    "        AR_res = auto_reg(x_data,new_y,p=p)\n",
    "        print(\"result MA = \", MA_res)\n",
    "        print(\"result AR = \", AR_res)\n",
    "        MA_plust_ar = MA_res + AR_res\n",
    "      \n",
    "    elif d == 2:\n",
    "        for i in range(len(y)):\n",
    "            num = y[i] - y[i-1]\n",
    "            new_y.append(int(num))\n",
    "            num = 0\n",
    "        for i in range(len(new_y)):\n",
    "            num = new_y[i] - new_y[i-1]\n",
    "            new_y1.append(num)\n",
    "            num = 0\n",
    "        arr_MA = SMA(new_y1,p)\n",
    "        res_MA = 0\n",
    "        for i in range(len(arr_MA)):\n",
    "            res_MA += arrMA[i]\n",
    "        arr_AR = auto_reg()\n",
    "        \n",
    "    return \"predict \" + str(MA_plust_ar)\n",
    "        \n",
    "print(ARIMA(x_data,y,my_x=1,p=1,q=7,d=0))\n",
    "print(\"True value\",test_y[201])"
   ]
  },
  {
   "cell_type": "code",
   "execution_count": 57,
   "metadata": {
    "colab": {
     "base_uri": "https://localhost:8080/",
     "height": 322
    },
    "colab_type": "code",
    "id": "ysiCt2f8RwFd",
    "outputId": "3768bf1f-5a26-444b-c7a1-dfda240518f4"
   },
   "outputs": [
    {
     "name": "stdout",
     "output_type": "stream",
     "text": [
      "result MA =  <class 'numpy.float64'>\n",
      "result AR =  <class 'numpy.float64'>\n"
     ]
    },
    {
     "data": {
      "image/png": "[encoded data removed]",
      "text/plain": [
       "<Figure size 432x288 with 1 Axes>"
      ]
     },
     "metadata": {
      "needs_background": "light"
     },
     "output_type": "display_data"
    },
    {
     "name": "stdout",
     "output_type": "stream",
     "text": [
      "predict 10.860161755681633\n"
     ]
    }
   ],
   "source": [
    "print(ARIMA(x_data,y,my_x=201,p=2,q=6,d=0))"
   ]
  },
  {
   "cell_type": "code",
   "execution_count": 40,
   "metadata": {
    "colab": {
     "base_uri": "https://localhost:8080/",
     "height": 52
    },
    "colab_type": "code",
    "id": "zpI8q7z8RwFi",
    "outputId": "beda9efb-e817-41d9-e86c-e6003e8caaf3"
   },
   "outputs": [
    {
     "name": "stdout",
     "output_type": "stream",
     "text": [
      "Predicted =  [10.243201426497652, 10.239743137128386, 10.273958496080168]\n",
      "True value =  10.29 ,    10.13 ,    10.11\n"
     ]
    }
   ],
   "source": [
    "def ARIMA_with_Prediction(step, x,y,p,q,d):\n",
    "  new_y = [0]\n",
    "  new_y1 = []\n",
    "  \n",
    "  resut_arr = []\n",
    "  MA_plust_ar = 0\n",
    "  \n",
    "  if d == 0:\n",
    "    new_x = []\n",
    "    new_y = []\n",
    "    new_x = x\n",
    "    new_y = y\n",
    "    my_x_x = 199\n",
    "    for i in range(step):\n",
    "      MA_res = MA_foresee(new_y,q)\n",
    "      AR_res = auto_reg(new_x,new_y,p=p)\n",
    "      MA_plust_ar = MA_res + AR_res\n",
    "      resut_arr.append(MA_plust_ar)\n",
    "      new_y.append(MA_plust_ar)\n",
    "      my_x_x +=1\n",
    "      new_x.append(my_x_x)\n",
    "\n",
    "  return resut_arr\n",
    "print(\"Predicted = \",ARIMA_with_Prediction(3,x_data,y,p=1,q=7,d=0))\n",
    "print(\"True value = \", test_y[201],\",   \",test_y[202],\",   \",test_y[203])"
   ]
  },
  {
   "cell_type": "code",
   "execution_count": 45,
   "metadata": {
    "colab": {
     "base_uri": "https://localhost:8080/",
     "height": 370
    },
    "colab_type": "code",
    "id": "JI0CInIKLPgt",
    "outputId": "0861c080-4a1c-4307-a234-9ec068b45e3e"
   },
   "outputs": [
    {
     "name": "stdout",
     "output_type": "stream",
     "text": [
      "Fit ARIMA: order=(2, 1, 2) seasonal_order=(0, 0, 0, 1); AIC=14.654, BIC=34.503, Fit time=0.811 seconds\n",
      "Fit ARIMA: order=(0, 1, 0) seasonal_order=(0, 0, 0, 1); AIC=91.853, BIC=98.470, Fit time=0.067 seconds\n",
      "Fit ARIMA: order=(1, 1, 0) seasonal_order=(0, 0, 0, 1); AIC=34.098, BIC=44.023, Fit time=0.107 seconds\n",
      "Fit ARIMA: order=(0, 1, 1) seasonal_order=(0, 0, 0, 1); AIC=57.924, BIC=67.849, Fit time=0.127 seconds\n",
      "Fit ARIMA: order=(1, 1, 2) seasonal_order=(0, 0, 0, 1); AIC=12.702, BIC=29.243, Fit time=0.569 seconds\n",
      "Fit ARIMA: order=(1, 1, 1) seasonal_order=(0, 0, 0, 1); AIC=11.723, BIC=24.956, Fit time=0.285 seconds\n",
      "Fit ARIMA: order=(2, 1, 1) seasonal_order=(0, 0, 0, 1); AIC=12.655, BIC=29.196, Fit time=0.392 seconds\n",
      "Total fit time: 2.369 seconds\n",
      "[10.27357231 10.27332909 10.27322035]\n"
     ]
    }
   ],
   "source": [
    "\n",
    "from pyramid.arima import auto_arima\n",
    "model = auto_arima(y, trace=True, error_action='ignore', suppress_warnings=True)\n",
    "model.fit(y)\n",
    "forecast = model.predict(3)"
   ]
  },
  {
   "cell_type": "code",
   "execution_count": 52,
   "metadata": {
    "colab": {},
    "colab_type": "code",
    "id": "6Ew-YfDcLPTp"
   },
   "outputs": [
    {
     "name": "stdout",
     "output_type": "stream",
     "text": [
      "AutoArima :  [10.27357231 10.27332909 10.27322035]\n",
      "Predicted =  [10.39171210757265, 10.392524629546758, 10.381670780971682]\n",
      "True value =  10.29 ,    10.13 ,    10.11\n"
     ]
    }
   ],
   "source": [
    "print(\"AutoArima : \",forecast)\n",
    "print(\"Predicted = \",ARIMA_with_Prediction(3,x_data,y,p=1,q=7,d=0))\n",
    "print(\"True value = \", test_y[201],\",   \",test_y[202],\",   \",test_y[203])"
   ]
  }
 ],
 "metadata": {
  "accelerator": "GPU",
  "colab": {
   "collapsed_sections": [],
   "name": "Arima.ipynb",
   "provenance": [],
   "toc_visible": true
  },
  "kernelspec": {
   "display_name": "Python 3",
   "language": "python",
   "name": "python3"
  },
  "language_info": {
   "codemirror_mode": {
    "name": "ipython",
    "version": 3
   },
   "file_extension": ".py",
   "mimetype": "text/x-python",
   "name": "python",
   "nbconvert_exporter": "python",
   "pygments_lexer": "ipython3",
   "version": "3.6.8"
  }
 },
 "nbformat": 4,
 "nbformat_minor": 1
}
